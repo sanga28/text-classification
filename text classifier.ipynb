{
 "cells": [
  {
   "cell_type": "code",
   "execution_count": 1,
   "id": "d7688647-e668-42d2-a548-5d26b206a990",
   "metadata": {},
   "outputs": [
    {
     "name": "stdout",
     "output_type": "stream",
     "text": [
      "Defaulting to user installation because normal site-packages is not writeable\n",
      "Requirement already satisfied: scikit-learn in c:\\users\\sanga\\appdata\\roaming\\python\\python313\\site-packages (1.6.0)\n",
      "Requirement already satisfied: nltk in c:\\users\\sanga\\appdata\\roaming\\python\\python313\\site-packages (3.9.1)\n",
      "Requirement already satisfied: numpy>=1.19.5 in c:\\users\\sanga\\appdata\\roaming\\python\\python313\\site-packages (from scikit-learn) (2.2.0)\n",
      "Requirement already satisfied: scipy>=1.6.0 in c:\\users\\sanga\\appdata\\roaming\\python\\python313\\site-packages (from scikit-learn) (1.14.1)\n",
      "Requirement already satisfied: joblib>=1.2.0 in c:\\users\\sanga\\appdata\\roaming\\python\\python313\\site-packages (from scikit-learn) (1.4.2)\n",
      "Requirement already satisfied: threadpoolctl>=3.1.0 in c:\\users\\sanga\\appdata\\roaming\\python\\python313\\site-packages (from scikit-learn) (3.5.0)\n",
      "Requirement already satisfied: click in c:\\users\\sanga\\appdata\\roaming\\python\\python313\\site-packages (from nltk) (8.1.7)\n",
      "Requirement already satisfied: regex>=2021.8.3 in c:\\users\\sanga\\appdata\\roaming\\python\\python313\\site-packages (from nltk) (2024.11.6)\n",
      "Requirement already satisfied: tqdm in c:\\users\\sanga\\appdata\\roaming\\python\\python313\\site-packages (from nltk) (4.67.1)\n",
      "Requirement already satisfied: colorama in c:\\users\\sanga\\appdata\\roaming\\python\\python313\\site-packages (from click->nltk) (0.4.6)\n"
     ]
    }
   ],
   "source": [
    "!pip install scikit-learn nltk"
   ]
  },
  {
   "cell_type": "code",
   "execution_count": 2,
   "id": "ca826a2d-056d-4118-bfd0-501ea87f58cc",
   "metadata": {},
   "outputs": [
    {
     "name": "stdout",
     "output_type": "stream",
     "text": [
      "Predictions: [1 1]\n",
      "Accuracy: 0.00\n",
      "Sentiment of the text: Positive\n"
     ]
    },
    {
     "name": "stderr",
     "output_type": "stream",
     "text": [
      "[nltk_data] Downloading package stopwords to\n",
      "[nltk_data]     C:\\Users\\sanga\\AppData\\Roaming\\nltk_data...\n",
      "[nltk_data]   Package stopwords is already up-to-date!\n"
     ]
    }
   ],
   "source": [
    "# Import necessary libraries\n",
    "import nltk\n",
    "from sklearn.feature_extraction.text import CountVectorizer\n",
    "from sklearn.naive_bayes import MultinomialNB\n",
    "from sklearn.model_selection import train_test_split\n",
    "from sklearn.metrics import accuracy_score\n",
    "\n",
    "# Download necessary NLTK data\n",
    "nltk.download('stopwords')\n",
    "from nltk.corpus import stopwords\n",
    "\n",
    "# Sample dataset with text and corresponding labels (0 = negative, 1 = positive)\n",
    "text_data = [\n",
    "    \"I love programming\",\n",
    "    \"I hate bugs in code\",\n",
    "    \"Python is amazing\",\n",
    "    \"I dislike debugging\",\n",
    "    \"This is a great project\",\n",
    "    \"I am frustrated with errors\",\n",
    "    \"I enjoy learning new languages\",\n",
    "    \"I feel good about solving problems\",\n",
    "]\n",
    "\n",
    "labels = [1, 0, 1, 0, 1, 0, 1, 1]  # Corresponding labels (1 = positive, 0 = negative)\n",
    "\n",
    "# Split the data into training and testing sets\n",
    "X_train, X_test, y_train, y_test = train_test_split(text_data, labels, test_size=0.25, random_state=42)\n",
    "\n",
    "# Initialize a CountVectorizer to convert text data into numerical features\n",
    "vectorizer = CountVectorizer(stop_words=stopwords.words('english'))\n",
    "\n",
    "# Transform the text data into feature vectors\n",
    "X_train_vectorized = vectorizer.fit_t# Import necessary libraries\n",
    "import nltk\n",
    "from sklearn.feature_extraction.text import CountVectorizer\n",
    "from sklearn.naive_bayes import MultinomialNB\n",
    "from sklearn.model_selection import train_test_split\n",
    "from sklearn.metrics import accuracy_score\n",
    "\n",
    "# Download necessary NLTK data\n",
    "nltk.download('stopwords')\n",
    "from nltk.corpus import stopwords\n",
    "\n",
    "# Expanded dataset with text and corresponding labels (0 = negative, 1 = positive)\n",
    "text_data = [\n",
    "    \"I love programming\",\n",
    "    \"I hate bugs in code\",\n",
    "    \"Python is amazing\",\n",
    "    \"I dislike debugging\",\n",
    "    \"This is a great project\",\n",
    "    \"I am frustrated with errors\",\n",
    "    \"I enjoy learning new languages\",\n",
    "    \"I feel good about solving problems\",\n",
    "    \"This project makes me happy\",\n",
    "    \"I am excited to learn more\",\n",
    "    \"This is frustrating\",\n",
    "    \"I am confused by this bug\",\n",
    "    \"Python is powerful\",\n",
    "    \"I love working on projects\",\n",
    "    \"I am proud of my work\",\n",
    "    \"I don't like this error message\",\n",
    "    \"This is so much fun\",\n",
    "    \"I am sad about the issues in my code\",\n",
    "    \"I feel great when I solve problems\"\n",
    "]\n",
    "\n",
    "labels = [1, 0, 1, 0, 1, 0, 1, 1, 1, 1, 0, 0, 1, 1, 1, 0, 1, 0, 1]  # Labels (1 = positive, 0 = negative)\n",
    "\n",
    "# Split the data into training and testing sets (75% for training, 25% for testing)\n",
    "X_train, X_test, y_train, y_test = train_test_split(text_data, labels, test_size=0.25, random_state=42)\n",
    "\n",
    "# Initialize a CountVectorizer to convert text data into numerical features\n",
    "vectorizer = CountVectorizer(stop_words=stopwords.words('english'))\n",
    "\n",
    "# Transform the text data into feature vectors\n",
    "X_train_vectorized = vectorizer.fit_transform(X_train)\n",
    "X_test_vectorized = vectorizer.transform(X_test)\n",
    "\n",
    "# Initialize the Naive Bayes classifier\n",
    "classifier = MultinomialNB()\n",
    "\n",
    "# Train the model on the training data\n",
    "classifier.fit(X_train_vectorized, y_train)\n",
    "\n",
    "# Make predictions on the test set\n",
    "y_pred = classifier.predict(X_test_vectorized)\n",
    "\n",
    "# Evaluate the accuracy of the model\n",
    "accuracy = accuracy_score(y_test, y_pred)\n",
    "\n",
    "# Print the results\n",
    "print(f\"Predictions: {y_pred}\")\n",
    "print(f\"Accuracy: {accuracy:.2f}\")\n",
    "\n",
    "# Classify a new text input\n",
    "new_text = [\"I am so happy with the results!\"]\n",
    "new_text_vectorized = vectorizer.transform(new_text)\n",
    "new_prediction = classifier.predict(new_text_vectorized)\n",
    "\n",
    "# Print the prediction for the new text\n",
    "if new_prediction[0] == 1:\n",
    "    print(f\"Sentiment of the text: Positive\")\n",
    "else:\n",
    "    print(f\"Sentiment of the text: Negative\")\n",
    "\n"
   ]
  },
  {
   "cell_type": "code",
   "execution_count": null,
   "id": "648a6f1d-d360-4373-aa3b-570f2c3cbbec",
   "metadata": {},
   "outputs": [],
   "source": []
  }
 ],
 "metadata": {
  "kernelspec": {
   "display_name": "Python 3 (ipykernel)",
   "language": "python",
   "name": "python3"
  },
  "language_info": {
   "codemirror_mode": {
    "name": "ipython",
    "version": 3
   },
   "file_extension": ".py",
   "mimetype": "text/x-python",
   "name": "python",
   "nbconvert_exporter": "python",
   "pygments_lexer": "ipython3",
   "version": "3.13.1"
  }
 },
 "nbformat": 4,
 "nbformat_minor": 5
}
